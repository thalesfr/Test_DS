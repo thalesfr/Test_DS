{
 "cells": [
  {
   "cell_type": "markdown",
   "metadata": {},
   "source": [
    "### Test 2"
   ]
  },
  {
   "cell_type": "code",
   "execution_count": 1,
   "metadata": {},
   "outputs": [],
   "source": [
    "import os\n",
    "import numpy as np\n",
    "import tensorflow as tf\n",
    "from tensorflow.keras import datasets, layers, models\n",
    "import matplotlib.pyplot as plt\n",
    "\n",
    "%matplotlib inline"
   ]
  },
  {
   "cell_type": "code",
   "execution_count": 2,
   "metadata": {},
   "outputs": [],
   "source": [
    "import csv\n",
    "\n",
    "truth = []\n",
    "with open('train.truth.csv', 'r') as file:\n",
    "    reader = csv.reader(file)\n",
    "    for row in reader:\n",
    "        truth.append(row)"
   ]
  },
  {
   "cell_type": "code",
   "execution_count": 3,
   "metadata": {},
   "outputs": [],
   "source": [
    "import glob\n",
    "import cv2\n",
    "\n",
    "rgb_order = [2, 1, 0]\n",
    "\n",
    "im_test0 = []\n",
    "pred = [['fn', 'label']]\n",
    "for file in glob.glob(\"test/*.jpg\"):\n",
    "    pred.append([file[5:], ''])\n",
    "    im_test0.append(cv2.imread(file)[:, :, rgb_order])\n",
    "    \n",
    "im_test = np.zeros((len(im_test0), 64, 64, 3), dtype=np.uint8)\n",
    "for i in range(len(im_test0)):\n",
    "    im_test[i, :, :, :] = im_test0[i]\n",
    "\n",
    "\n",
    "im_train = np.zeros((len(truth), 64, 64, 3), dtype=np.uint8)\n",
    "labels = np.zeros((len(truth), 4), dtype=np.float32)\n",
    "label_dict = {'upright': 0, 'rotated_left': 1, 'rotated_right': 2, 'upside_down':3}\n",
    "for i, elem in enumerate(truth[1:]):\n",
    "    file_name = 'train/' + elem[0]\n",
    "    im_train[i, :, :, :] = cv2.imread(file_name)[:, :, rgb_order]\n",
    "    j = label_dict[elem[1]]\n",
    "    labels[i, j] = 1 \n"
   ]
  },
  {
   "cell_type": "code",
   "execution_count": 4,
   "metadata": {},
   "outputs": [],
   "source": [
    "im_train = im_train.astype('float32')\n",
    "im_test = im_test.astype('float32')\n",
    "im_train /= 255\n",
    "im_test /= 255"
   ]
  },
  {
   "cell_type": "code",
   "execution_count": 5,
   "metadata": {},
   "outputs": [
    {
     "data": {
      "text/plain": [
       "(48897, 64, 64, 3)"
      ]
     },
     "execution_count": 5,
     "metadata": {},
     "output_type": "execute_result"
    }
   ],
   "source": [
    "im_train.shape"
   ]
  },
  {
   "cell_type": "code",
   "execution_count": 6,
   "metadata": {},
   "outputs": [
    {
     "data": {
      "text/plain": [
       "(48897, 4)"
      ]
     },
     "execution_count": 6,
     "metadata": {},
     "output_type": "execute_result"
    }
   ],
   "source": [
    "labels.shape"
   ]
  },
  {
   "cell_type": "code",
   "execution_count": 7,
   "metadata": {},
   "outputs": [
    {
     "name": "stdout",
     "output_type": "stream",
     "text": [
      "x_train shape: (8000, 64, 64, 3)\n",
      "8000 train samples\n",
      "2000 test samples\n"
     ]
    }
   ],
   "source": [
    "# The data, split between train and test sets:\n",
    "from sklearn.model_selection import train_test_split\n",
    "\n",
    "im_train = im_train[0:10000, :, :, :]\n",
    "labels = labels[0:10000, :]\n",
    "x_train, x_test, y_train, y_test = train_test_split(im_train, labels, test_size=0.2)\n",
    "\n",
    "print('x_train shape:', x_train.shape)\n",
    "print(x_train.shape[0], 'train samples')\n",
    "print(x_test.shape[0], 'test samples')"
   ]
  },
  {
   "cell_type": "code",
   "execution_count": 8,
   "metadata": {},
   "outputs": [
    {
     "name": "stdout",
     "output_type": "stream",
     "text": [
      "250/250 [==============================] - 79s 317ms/step - loss: 1.0029 - accuracy: 0.5791 - val_loss: 0.6000 - val_accuracy: 0.8100\n",
      "63/63 [==============================] - 4s 67ms/step - loss: 0.6000 - accuracy: 0.8100\n",
      "Test loss: 0.6000227332115173\n",
      "Test accuracy: 0.8100000023841858\n"
     ]
    }
   ],
   "source": [
    "'''Train a simple deep CNN on the CIFAR10 small images dataset.\n",
    "It gets to 75% validation accuracy in 25 epochs, and 79% after 50 epochs.\n",
    "(it's still underfitting at that point, though).\n",
    "'''\n",
    "\n",
    "from tensorflow.keras.optimizers import RMSprop\n",
    "from tensorflow.keras.models import Sequential\n",
    "from tensorflow.keras.layers import Dense, Dropout, Activation, Flatten\n",
    "from tensorflow.keras.layers import Conv2D, MaxPooling2D\n",
    "import os\n",
    "\n",
    "batch_size = 32\n",
    "num_classes = 4#10\n",
    "epochs = 1#100\n",
    "\n",
    "\n",
    "model = Sequential()\n",
    "model.add(Conv2D(32, (3, 3), padding='same',\n",
    "                 input_shape=x_train.shape[1:]))\n",
    "model.add(Activation('relu'))\n",
    "model.add(Conv2D(32, (3, 3)))\n",
    "model.add(Activation('relu'))\n",
    "model.add(MaxPooling2D(pool_size=(2, 2)))\n",
    "model.add(Dropout(0.25))\n",
    "\n",
    "model.add(Conv2D(64, (3, 3), padding='same'))\n",
    "model.add(Activation('relu'))\n",
    "model.add(Conv2D(64, (3, 3)))\n",
    "model.add(Activation('relu'))\n",
    "model.add(MaxPooling2D(pool_size=(2, 2)))\n",
    "model.add(Dropout(0.25))\n",
    "\n",
    "model.add(Flatten())\n",
    "model.add(Dense(512))\n",
    "model.add(Activation('relu'))\n",
    "model.add(Dropout(0.5))\n",
    "model.add(Dense(num_classes))\n",
    "model.add(Activation('softmax'))\n",
    "\n",
    "# initiate RMSprop optimizer\n",
    "opt = RMSprop(lr=0.0001, decay=1e-6)\n",
    "\n",
    "# Let's train the model using RMSprop\n",
    "model.compile(loss='categorical_crossentropy',\n",
    "              optimizer=opt,\n",
    "              metrics=['accuracy'])\n",
    "\n",
    "model.fit(x_train, y_train,\n",
    "          batch_size=batch_size,\n",
    "          epochs=epochs,\n",
    "          validation_data=(x_test, y_test),\n",
    "          shuffle=True)\n",
    "\n",
    "\n",
    "# Save model and weights\n",
    "# if not os.path.isdir(save_dir):\n",
    "#     os.makedirs(save_dir)\n",
    "# model_path = os.path.join(save_dir, model_name)\n",
    "# model.save(model_path)\n",
    "# print('Saved trained model at %s ' % model_path)\n",
    "\n",
    "# Score trained model.\n",
    "scores = model.evaluate(x_test, y_test, verbose=1)\n",
    "print('Test loss:', scores[0])\n",
    "print('Test accuracy:', scores[1])"
   ]
  },
  {
   "cell_type": "markdown",
   "metadata": {},
   "source": [
    "### Predict on test images and save csv file"
   ]
  },
  {
   "cell_type": "code",
   "execution_count": 9,
   "metadata": {},
   "outputs": [
    {
     "data": {
      "text/plain": [
       "[['fn', 'label'],\n",
       " ['93-23730893_1988-05-18_2012.jpg', 'rotated_left'],\n",
       " ['99-667599_1938-06-05_1963.jpg', 'upright'],\n",
       " ['99-45240299_1991-05-22_2014.jpg', 'rotated_right'],\n",
       " ['92-292592_1967-02-19_2014.jpg', 'rotated_right']]"
      ]
     },
     "execution_count": 9,
     "metadata": {},
     "output_type": "execute_result"
    }
   ],
   "source": [
    "# Predict on Test images\n",
    "model_predict = model.predict(im_test)\n",
    "\n",
    "for i, elem in enumerate(pred[1:]):\n",
    "    argmax = np.argmax(model_predict[i, :])\n",
    "    if argmax == 0:\n",
    "        elem[1] = 'upright'\n",
    "    elif argmax == 1:\n",
    "        elem[1] = 'rotated_left'\n",
    "    elif argmax == 2:\n",
    "        elem[1] = 'rotated_right'\n",
    "    else:\n",
    "        elem[1] = 'upside_down'\n",
    "        \n",
    "pred[0:5]"
   ]
  },
  {
   "cell_type": "code",
   "execution_count": 10,
   "metadata": {},
   "outputs": [],
   "source": [
    "with open('test.preds.csv', 'w', newline='') as file:\n",
    "    writer = csv.writer(file)\n",
    "    for elem in pred:\n",
    "        writer.writerow(elem)"
   ]
  },
  {
   "cell_type": "markdown",
   "metadata": {},
   "source": [
    "### Correct images"
   ]
  },
  {
   "cell_type": "code",
   "execution_count": 9,
   "metadata": {},
   "outputs": [],
   "source": [
    "def rotate_fig(fig, label):\n",
    "    if label == 1:\n",
    "        for i in range(3):\n",
    "            fig[:, :, i] = np.transpose(fig[:, :, i])\n",
    "    elif label == 2:\n",
    "        for i in range(3):\n",
    "            fig[:, :, i] = np.transpose(fig[:, :, i])\n",
    "            fig[:, :, i] = np.flipud(fig[:, :, i])\n",
    "    elif label == 3:\n",
    "        for i in range(3):\n",
    "            fig[:, :, i] = np.flipud(fig[:, :, i])\n",
    "    \n",
    "    return fig"
   ]
  },
  {
   "cell_type": "code",
   "execution_count": 17,
   "metadata": {},
   "outputs": [
    {
     "data": {
      "image/png": "[encoded data removed]",
      "text/plain": [
       "<Figure size 432x288 with 1 Axes>"
      ]
     },
     "metadata": {
      "needs_background": "light"
     },
     "output_type": "display_data"
    }
   ],
   "source": [
    "directory = 'corrected_images'\n",
    "if not os.path.isdir(directory):\n",
    "    os.mkdir(directory)\n",
    "\n",
    "corr_im = im_test.copy() \n",
    "prediction = model.predict(corr_im[0:10, :, :, :])\n",
    "\n",
    "#generate figure\n",
    "fig, ax = plt.subplots()        \n",
    "ax.axis('off')\n",
    "#loop over figures\n",
    "for i in range(prediction.shape[0]):\n",
    "    f = im_train[i, :, :, :].copy()\n",
    "    argmax = np.argmax(prediction[i, :])\n",
    "    corr_im[i, :, :, :] = rotate_fig(f, argmax)\n",
    "    \n",
    "    #save figure\n",
    "    ax.imshow(corr_im[i, :, :, :])\n",
    "    file_name = directory + '/' + (pred[i + 1][0])[0:-4]\n",
    "    fig.savefig(file_name)\n",
    "    \n",
    "# Save numpy array.\n",
    "np.save('corrected_figs_array', corr_im)"
   ]
  },
  {
   "cell_type": "code",
   "execution_count": 10,
   "metadata": {},
   "outputs": [
    {
     "name": "stdout",
     "output_type": "stream",
     "text": [
      "0\n"
     ]
    },
    {
     "data": {
      "image/png": "[encoded data removed]",
      "text/plain": [
       "<Figure size 432x288 with 1 Axes>"
      ]
     },
     "metadata": {
      "needs_background": "light"
     },
     "output_type": "display_data"
    }
   ],
   "source": [
    "directory = 'corrected_images'\n",
    "if not os.path.isdir(directory):\n",
    "    os.mkdir(directory)\n",
    "\n",
    "corr_im = im_test.copy() \n",
    "predictions = model.predict(corr_im[0:10, :, :, :])\n",
    "\n",
    "# Turn interactive plotting off\n",
    "#plt.ioff()\n",
    "#generate figure\n",
    "fig, ax = plt.subplots()        \n",
    "ax.axis('off')\n",
    "#loop over figures\n",
    "\n",
    "i = 0\n",
    "f = im_train[i, :, :, :].copy()\n",
    "argmax = np.argmax(predictions[i, :])\n",
    "corr_im[i, :, :, :] = rotate_fig(f, argmax)\n",
    "\n",
    "#save figure\n",
    "print(i)\n",
    "ax.imshow(corr_im[i, :, :, :])\n",
    "file_name = directory + '/' + truth[i][0]\n",
    "fig.savefig(file_name)"
   ]
  }
 ],
 "metadata": {
  "kernelspec": {
   "display_name": "venv",
   "language": "python",
   "name": "venv"
  },
  "language_info": {
   "codemirror_mode": {
    "name": "ipython",
    "version": 3
   },
   "file_extension": ".py",
   "mimetype": "text/x-python",
   "name": "python",
   "nbconvert_exporter": "python",
   "pygments_lexer": "ipython3",
   "version": "3.8.5"
  }
 },
 "nbformat": 4,
 "nbformat_minor": 4
}
