{
 "cells": [
  {
   "cell_type": "code",
   "execution_count": 1,
   "metadata": {},
   "outputs": [],
   "source": [
    "import numpy as np\n",
    "import json"
   ]
  },
  {
   "cell_type": "code",
   "execution_count": 2,
   "metadata": {},
   "outputs": [
    {
     "data": {
      "text/plain": [
       "{'name': '[CV] [Qt] OpenCV GUI',\n",
       " 'managers': ['csaftoiu', 'merlin'],\n",
       " 'watchers': ['merlin', 'morris'],\n",
       " 'priority': 850}"
      ]
     },
     "execution_count": 2,
     "metadata": {},
     "output_type": "execute_result"
    }
   ],
   "source": [
    "with open('source_file_2.json') as f:\n",
    "    data = json.load(f)\n",
    "    \n",
    "data[0]"
   ]
  },
  {
   "cell_type": "code",
   "execution_count": 3,
   "metadata": {},
   "outputs": [],
   "source": [
    "managers, watchers = [], []\n",
    "priority = []\n",
    "name = []\n",
    "for i, d in enumerate(data):    \n",
    "    managers = managers + d['managers']\n",
    "    watchers = watchers + d['watchers']\n",
    "    priority.append(d['priority'])\n",
    "    name.append(d['name']) \n",
    "\n",
    "managers = set(managers)\n",
    "watchers = set(watchers)"
   ]
  },
  {
   "cell_type": "code",
   "execution_count": 4,
   "metadata": {},
   "outputs": [],
   "source": [
    "priority = np.array(priority)\n",
    "argsort = np.argsort(priority)\n",
    "name_sorted = [name[i] for i in argsort]\n",
    "data_sorted = [data[i] for i in argsort]"
   ]
  },
  {
   "cell_type": "code",
   "execution_count": 5,
   "metadata": {},
   "outputs": [],
   "source": [
    "managers_dict = {m:[] for m in managers}\n",
    "watchers_dict = {w:[] for w in watchers}\n",
    "for d in data_sorted:\n",
    "    for m in d['managers']:\n",
    "        managers_dict[m].append(d['name'])\n",
    "    for w in d['watchers']:\n",
    "        watchers_dict[w].append(d['name'])\n",
    "    "
   ]
  },
  {
   "cell_type": "code",
   "execution_count": 6,
   "metadata": {},
   "outputs": [],
   "source": [
    "with open('managers.json', 'w') as json_file:\n",
    "    json.dump(managers_dict, json_file)\n",
    "    \n",
    "with open('watchers.json', 'w') as json_file:\n",
    "    json.dump(watchers_dict, json_file)"
   ]
  },
  {
   "cell_type": "code",
   "execution_count": 9,
   "metadata": {},
   "outputs": [
    {
     "data": {
      "text/plain": [
       "['sportsparsers - pinnacle API',\n",
       " '[OCR] tesseract MRZ reading ',\n",
       " 'unity render diff passport text artur',\n",
       " '[CV] [Qt] OpenCV GUI',\n",
       " 'unity render different passport text',\n",
       " '[template] unity render passport text',\n",
       " 'matchbook parser - mfilho']"
      ]
     },
     "execution_count": 9,
     "metadata": {},
     "output_type": "execute_result"
    }
   ],
   "source": [
    "managers_dict['csaftoiu']"
   ]
  },
  {
   "cell_type": "code",
   "execution_count": null,
   "metadata": {},
   "outputs": [],
   "source": []
  }
 ],
 "metadata": {
  "kernelspec": {
   "display_name": "venv",
   "language": "python",
   "name": "venv"
  },
  "language_info": {
   "codemirror_mode": {
    "name": "ipython",
    "version": 3
   },
   "file_extension": ".py",
   "mimetype": "text/x-python",
   "name": "python",
   "nbconvert_exporter": "python",
   "pygments_lexer": "ipython3",
   "version": "3.8.5"
  }
 },
 "nbformat": 4,
 "nbformat_minor": 4
}
