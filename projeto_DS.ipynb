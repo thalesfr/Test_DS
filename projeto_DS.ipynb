{
 "cells": [
  {
   "cell_type": "code",
   "execution_count": 1,
   "metadata": {},
   "outputs": [],
   "source": [
    "import numpy as np\n",
    "import json"
   ]
  },
  {
   "cell_type": "code",
   "execution_count": 2,
   "metadata": {},
   "outputs": [
    {
     "data": {
      "text/plain": [
       "{'name': '[CV] [Qt] OpenCV GUI',\n",
       " 'managers': ['csaftoiu', 'merlin'],\n",
       " 'watchers': ['merlin', 'morris'],\n",
       " 'priority': 850}"
      ]
     },
     "execution_count": 2,
     "metadata": {},
     "output_type": "execute_result"
    }
   ],
   "source": [
    "with open('source_file_2.json') as f:\n",
    "    data = json.load(f)\n",
    "    \n",
    "data[0]"
   ]
  },
  {
   "cell_type": "code",
   "execution_count": 3,
   "metadata": {},
   "outputs": [],
   "source": [
    "managers, watchers = [], []\n",
    "priority = []\n",
    "name = []\n",
    "for i, d in enumerate(data):    \n",
    "    managers = managers + d['managers']\n",
    "    watchers = watchers + d['watchers']\n",
    "    priority.append(d['priority'])\n",
    "    name.append(d['name']) \n",
    "\n",
    "managers = set(managers)\n",
    "watchers = set(watchers)"
   ]
  },
  {
   "cell_type": "code",
   "execution_count": 4,
   "metadata": {},
   "outputs": [],
   "source": [
    "priority = np.array(priority)\n",
    "argsort = np.argsort(priority)\n",
    "name_sorted = [name[i] for i in argsort]\n",
    "data_sorted = [data[i] for i in argsort]"
   ]
  },
  {
   "cell_type": "code",
   "execution_count": 5,
   "metadata": {},
   "outputs": [],
   "source": [
    "managers_dict = {m:[] for m in managers}\n",
    "watchers_dict = {w:[] for w in watchers}\n",
    "for d in data_sorted:\n",
    "    for m in d['managers']:\n",
    "        managers_dict[m].append(d['name'])\n",
    "    for w in d['watchers']:\n",
    "        watchers_dict[w].append(d['name'])\n",
    "    "
   ]
  },
  {
   "cell_type": "code",
   "execution_count": 6,
   "metadata": {},
   "outputs": [],
   "source": [
    "with open('managers.json', 'w') as json_file:\n",
    "    json.dump(managers_dict, json_file)\n",
    "    \n",
    "with open('watchers.json', 'w') as json_file:\n",
    "    json.dump(watchers_dict, json_file)"
   ]
  },
  {
   "cell_type": "code",
   "execution_count": 8,
   "metadata": {},
   "outputs": [
    {
     "data": {
      "text/plain": [
       "{'merlin': ['Annotations',\n",
       "  '[EXECUTIVE] Merlin',\n",
       "  'sportsparsers - 22bet',\n",
       "  'sportsparsers - esportscalendar',\n",
       "  'sportsparsers - unikrn',\n",
       "  'Deepgammon',\n",
       "  'Runningball Parser',\n",
       "  'sportsparsers - unibet',\n",
       "  'sportsparsers - tipster.de',\n",
       "  'sportsparsers - betway',\n",
       "  'sportsparsers - gg.bet',\n",
       "  'sportsparsers - matchbook',\n",
       "  '[OCR] tesseract MRZ reading ',\n",
       "  '[INHOUSE-TOOLS] NN-Webapp',\n",
       "  'unity render diff passport text artur',\n",
       "  '[CV] [Qt] OpenCV GUI',\n",
       "  'unity render different passport text',\n",
       "  '[template] unity render passport text',\n",
       "  'unity render diff passport text - kennedy',\n",
       "  'Unity Render Passport Text [Template]',\n",
       "  'mateus silva bg deep checkers',\n",
       "  'Android Camera App rrocha',\n",
       "  'bg deep learning aporto',\n",
       "  'bg deep checkers rvalentim',\n",
       "  'tourney site famador',\n",
       "  'tourney site ariel',\n",
       "  'tourney site tbarbalho',\n",
       "  '[INHOUSE-TOOLS] NN-Webapp 2',\n",
       "  'matchbook parser - mfilho'],\n",
       " 'morris': ['[EXECUTIVE] Merlin',\n",
       "  'morris bg data gathering',\n",
       "  '[Web] pm-site',\n",
       "  'sportsparsers - pinnacle API',\n",
       "  '[ID-VERIFY-PIPELINE] finger detector',\n",
       "  '[CHESS] Live Demo Executive',\n",
       "  '[INHOUSE-TOOLS] NN-Webapp',\n",
       "  '[INHOUSE-TOOLS] Annotators app',\n",
       "  'unity render diff passport text artur',\n",
       "  '[CV] [Qt] OpenCV GUI',\n",
       "  'python training lucas',\n",
       "  'python training alysson',\n",
       "  'unity render different passport text',\n",
       "  '[template] unity render passport text',\n",
       "  'unity render diff passport text - kennedy',\n",
       "  'Unity Render Passport Text [Template]',\n",
       "  '[IOS-APPS] IOS streaming app',\n",
       "  '[IOS-APPS] IOS PI app',\n",
       "  '[HR] Candidate tests',\n",
       "  '[CHATBOT] merlin',\n",
       "  '[ID-VERIFY-PIPELINE] Background evaluator',\n",
       "  '[ID-VERIFY-PIPELINE] Passport finder',\n",
       "  '[CHATBOT] rodrigo',\n",
       "  '[BG-CLUB-SITE] frontend',\n",
       "  '[INHOUSE-TOOLS] NN-Webapp 2'],\n",
       " 'victor': ['Annotations', 'Deepgammon'],\n",
       " 'arturc': ['[OCR] tesseract MRZ reading '],\n",
       " 'victor-mgr': ['chess board finder eliaquim'],\n",
       " 'jpfarias': ['[EXECUTIVE] Merlin',\n",
       "  '[Web] pm-site',\n",
       "  '[ID-VERIFY-PIPELINE] finger detector',\n",
       "  '[INHOUSE-TOOLS] NN-Webapp',\n",
       "  '[INHOUSE-TOOLS] Annotators app',\n",
       "  '[IOS-APPS] IOS streaming app',\n",
       "  '[IOS-APPS] IOS PI app',\n",
       "  '[HR] Candidate tests',\n",
       "  '[CHATBOT] merlin',\n",
       "  '[ID-VERIFY-PIPELINE] Background evaluator',\n",
       "  '[ID-VERIFY-PIPELINE] Passport finder',\n",
       "  '[CHATBOT] rodrigo',\n",
       "  '[BG-CLUB-SITE] frontend',\n",
       "  '[INHOUSE-TOOLS] NN-Webapp 2',\n",
       "  'matchbook parser - mfilho'],\n",
       " 'Alex': ['sportsparsers - pinnacle API'],\n",
       " 'csaftoiu': ['Annotations',\n",
       "  '[EXECUTIVE] Merlin',\n",
       "  'sportsparsers - 22bet',\n",
       "  'sportsparsers - esportscalendar',\n",
       "  'morris bg data gathering',\n",
       "  'sportsparsers - unikrn',\n",
       "  'Runningball Parser',\n",
       "  'sportsparsers - unibet',\n",
       "  '[Web] pm-site',\n",
       "  'sportsparsers - tipster.de',\n",
       "  'sportsparsers - betway',\n",
       "  'sportsparsers - gg.bet',\n",
       "  'sportsparsers - pinnacle API',\n",
       "  'sportsparsers - matchbook',\n",
       "  '[ID-VERIFY-PIPELINE] finger detector',\n",
       "  '[CHESS] Live Demo Executive',\n",
       "  '[INHOUSE-TOOLS] NN-Webapp',\n",
       "  '[INHOUSE-TOOLS] Annotators app',\n",
       "  'python training lucas',\n",
       "  'python training alysson',\n",
       "  'unity render diff passport text - kennedy',\n",
       "  'Unity Render Passport Text [Template]',\n",
       "  'mateus silva bg deep checkers',\n",
       "  'Android Camera App rrocha',\n",
       "  'bg deep learning aporto',\n",
       "  'bg deep checkers rvalentim',\n",
       "  'tourney site famador',\n",
       "  'chess board finder eliaquim',\n",
       "  'tourney site ariel',\n",
       "  'tourney site tbarbalho',\n",
       "  '[IOS-APPS] IOS streaming app',\n",
       "  '[IOS-APPS] IOS PI app',\n",
       "  '[HR] Candidate tests',\n",
       "  '[CHATBOT] merlin',\n",
       "  '[ID-VERIFY-PIPELINE] Background evaluator',\n",
       "  '[ID-VERIFY-PIPELINE] Passport finder',\n",
       "  '[CHATBOT] rodrigo',\n",
       "  '[BG-CLUB-SITE] frontend',\n",
       "  '[INHOUSE-TOOLS] NN-Webapp 2']}"
      ]
     },
     "execution_count": 8,
     "metadata": {},
     "output_type": "execute_result"
    }
   ],
   "source": [
    "watchers_dict"
   ]
  },
  {
   "cell_type": "code",
   "execution_count": null,
   "metadata": {},
   "outputs": [],
   "source": []
  }
 ],
 "metadata": {
  "kernelspec": {
   "display_name": "venv",
   "language": "python",
   "name": "venv"
  },
  "language_info": {
   "codemirror_mode": {
    "name": "ipython",
    "version": 3
   },
   "file_extension": ".py",
   "mimetype": "text/x-python",
   "name": "python",
   "nbconvert_exporter": "python",
   "pygments_lexer": "ipython3",
   "version": "3.8.5"
  }
 },
 "nbformat": 4,
 "nbformat_minor": 4
}
